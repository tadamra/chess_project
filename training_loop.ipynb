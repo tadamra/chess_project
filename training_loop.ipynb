{
  "cells": [
    {
      "cell_type": "code",
      "execution_count": null,
      "metadata": {
        "id": "c7stEpWjIzJJ"
      },
      "outputs": [],
      "source": [
        "#potentially alternative to uploading\n",
        "from google.colab import drive\n",
        "drive.mount('/content/drive')\n",
        "%cd /content/drive/My Drive/dlam_project\n",
        "!pwd"
      ]
    },
    {
      "cell_type": "code",
      "execution_count": null,
      "metadata": {
        "id": "JqaJTALU7AiS"
      },
      "outputs": [],
      "source": [
        "#from google.colab import files\n",
        "#files.upload()"
      ]
    },
    {
      "cell_type": "code",
      "execution_count": null,
      "metadata": {
        "id": "wHaG1NHB5uNr"
      },
      "outputs": [],
      "source": [
        "#!ls -lha kaggle.json\n",
        "#!mkdir -p ~/.kaggle # creating .kaggle folder where the key should be placed\n",
        "#!cp kaggle.json ~/.kaggle/ # move the key to the folder\n",
        "#!pwd # checking the present working directory\n",
        "#!chmod 600 ~/.kaggle/kaggle.json"
      ]
    },
    {
      "cell_type": "code",
      "execution_count": null,
      "metadata": {
        "id": "x0DZiRPH8DzA"
      },
      "outputs": [],
      "source": [
        "#!pip install -q kaggle"
      ]
    },
    {
      "cell_type": "code",
      "execution_count": null,
      "metadata": {
        "id": "cbv45wO74J1k"
      },
      "outputs": [],
      "source": [
        "#%cd /content\n",
        "#!kaggle datasets download arevel/chess-games\n",
        "#!unzip -qq /content/chess-games.zip\n",
        "#%cd /content"
      ]
    },
    {
      "cell_type": "code",
      "execution_count": null,
      "metadata": {
        "id": "N_lIM0oW4J1z"
      },
      "outputs": [],
      "source": [
        "#file_path = '/content/chess_games.csv'#\n",
        "file_path = '/content/drive/My Drive/dlam_project/chess_games.csv'\n",
        "#file_path = 'C:/Users/Nils/Downloads/archive/chess_games.csv'"
      ]
    },
    {
      "cell_type": "code",
      "execution_count": 1,
      "metadata": {
        "id": "gS7cl5UO8qsO"
      },
      "outputs": [
        {
          "name": "stdout",
          "output_type": "stream",
          "text": [
            "Requirement already satisfied: chess in c:\\users\\nils\\miniconda3\\envs\\project_dlam\\lib\\site-packages (1.9.4)\n"
          ]
        }
      ],
      "source": [
        "!pip install chess"
      ]
    },
    {
      "cell_type": "code",
      "execution_count": 2,
      "metadata": {
        "id": "-xfTbHIk4J1w"
      },
      "outputs": [],
      "source": [
        "#IMPORTS\n",
        "import numpy as np\n",
        "import pandas as pd\n",
        "import chess\n",
        "import gc\n",
        "import torch\n",
        "from torch.utils.data import DataLoader, Dataset\n",
        "import torch.nn as nn\n",
        "import torch.nn.functional as F\n",
        "from neural_networks import CopiedChessNetwork\n",
        "from datasets import Copied_Dataset\n"
      ]
    },
    {
      "cell_type": "code",
      "execution_count": 3,
      "metadata": {
        "id": "AfLtklKdE3ec"
      },
      "outputs": [],
      "source": [
        "# SPECIFY DEFAULT SETTINGS\n",
        "device = torch.device('cuda' if torch.cuda.is_available() else 'cpu')\n",
        "torch.set_default_tensor_type(torch.DoubleTensor)"
      ]
    },
    {
      "cell_type": "code",
      "execution_count": 4,
      "metadata": {
        "id": "yS_9k2FO4J2F"
      },
      "outputs": [
        {
          "ename": "NameError",
          "evalue": "name 'file_path' is not defined",
          "output_type": "error",
          "traceback": [
            "\u001b[1;31m---------------------------------------------------------------------------\u001b[0m",
            "\u001b[1;31mNameError\u001b[0m                                 Traceback (most recent call last)",
            "Cell \u001b[1;32mIn[4], line 1\u001b[0m\n\u001b[1;32m----> 1\u001b[0m chess_data_raw \u001b[39m=\u001b[39m pd\u001b[39m.\u001b[39mread_csv(file_path, usecols\u001b[39m=\u001b[39m[\u001b[39m\"\u001b[39m\u001b[39mAN\u001b[39m\u001b[39m\"\u001b[39m,\u001b[39m\"\u001b[39m\u001b[39mWhiteElo\u001b[39m\u001b[39m\"\u001b[39m])\n\u001b[0;32m      2\u001b[0m chess_data\u001b[39m=\u001b[39m chess_data_raw[chess_data_raw[\u001b[39m'\u001b[39m\u001b[39mWhiteElo\u001b[39m\u001b[39m'\u001b[39m] \u001b[39m>\u001b[39m \u001b[39m2000\u001b[39m]\n\u001b[0;32m      3\u001b[0m \u001b[39mdel\u001b[39;00m chess_data_raw\n",
            "\u001b[1;31mNameError\u001b[0m: name 'file_path' is not defined"
          ]
        }
      ],
      "source": [
        "chess_data_raw = pd.read_csv(file_path, usecols=[\"AN\",\"WhiteElo\"])\n",
        "chess_data= chess_data_raw[chess_data_raw['WhiteElo'] > 2000]\n",
        "del chess_data_raw\n",
        "gc.collect()\n",
        "chess_data = chess_data[['AN']]\n",
        "chess_data = chess_data[~chess_data['AN'].str.contains('{')]\n",
        "chess_data = chess_data[chess_data['AN'].str.len() > 20]\n",
        "print(chess_data.shape)\n"
      ]
    },
    {
      "cell_type": "code",
      "execution_count": 34,
      "metadata": {
        "id": "UlwhUm3s4J11"
      },
      "outputs": [],
      "source": [
        "#board = chess.Board()\n",
        "#dic = board.piece_map()\n",
        "#for pos, piece in dic.items():\n",
        "#    print(pos, piece.symbol())\n",
        "\n",
        "#Gets the symbol P, N, B, R, Q or K for white pieces or the lower-case variants for the black pieces.\n",
        "\n",
        "#board layout in storage\n",
        "# 0 r n b q k b n r\n",
        "# 1 p p p p p p p p\n",
        "# 2 . . . . . . . .\n",
        "# 3 . . . . . . . .\n",
        "# 4 . . . . . . . .\n",
        "# 5 . . . . . . . .\n",
        "# 6 P P P P P P P P\n",
        "# 7 R N B Q K B N R\n",
        "\n",
        "# board layout in chess\n",
        "# 8 r n b q k b n r\n",
        "# 7 p p p p p p p p\n",
        "# 6 . . . . . . . .\n",
        "# 5 . . . . . . . .\n",
        "# 4 . . . . . . . .\n",
        "# 3 . . . . . . . .\n",
        "# 2 P P P P P P P P\n",
        "# 1 R N B Q K B N R\n",
        "#   a b c d e f g h\n",
        "\n",
        "# pos in piece_map is letter_tonum[letter] + 8 * number"
      ]
    },
    {
      "cell_type": "code",
      "execution_count": null,
      "metadata": {
        "id": "kRlBH0l94J19"
      },
      "outputs": [],
      "source": [
        "#data_train = Copied_Dataset(chess_data.iloc[:N_train], N_train)\n",
        "#data_loader_train = DataLoader(data_train, batch_size = 32, shuffle = False)\n",
        "#\n",
        "#data_test = Copied_Dataset(chess_data.iloc[N_train: N_train + N_test], N_test)\n",
        "#data_loader_test = DataLoader(data_test, batch_size = 32, shuffle = False)\n",
        "N_train = 2000\n",
        "N_test = 500\n",
        "N_epochs = 5\n",
        "\n",
        "data_train = Copied_Dataset(chess_data, N_train)\n",
        "data_loader_train = DataLoader(data_train, batch_size = 64, shuffle = True)\n",
        "\n",
        "data_test = Copied_Dataset(chess_data, N_test)\n",
        "data_loader_test = DataLoader(data_test, batch_size = 64, shuffle = True)"
      ]
    },
    {
      "cell_type": "markdown",
      "metadata": {
        "id": "Uksid4Iq4J2D"
      },
      "source": [
        "# Training and Eval Loop"
      ]
    },
    {
      "cell_type": "code",
      "execution_count": 26,
      "metadata": {
        "id": "WM008SU94J2D"
      },
      "outputs": [],
      "source": [
        "lr = 3e-4\n",
        "hidden_size = 128\n",
        "hidden_layers = 4\n",
        "model = CopiedChessNetwork(hidden_layers=hidden_layers, hidden_size=hidden_size)\n",
        "metric_from = nn.CrossEntropyLoss()\n",
        "metric_to = nn.CrossEntropyLoss()\n",
        "optimizer = torch.optim.Adam(model.parameters(), lr = lr)\n"
      ]
    },
    {
      "cell_type": "code",
      "execution_count": null,
      "metadata": {
        "colab": {
          "base_uri": "https://localhost:8080/"
        },
        "id": "GZq4yvc84J2D",
        "outputId": "7e3187d1-f791-4431-ff5f-a4504bfdbcc4"
      },
      "outputs": [
        {
          "name": "stdout",
          "output_type": "stream",
          "text": [
            "0.5181306407220865\n",
            "0.18460245873644307\n",
            "0.2285778128570642\n",
            "0.1166661434569104\n",
            "0.11449397977073866\n",
            "0.1421459252988675\n",
            "0.2263416419319615\n",
            "0.15684008007116937\n",
            "0.17551830675001562\n",
            "0.15595597739577566\n",
            "0.10708319070045116\n"
          ]
        }
      ],
      "source": [
        "model.eval()\n",
        "for data, target in data_loader_test:\n",
        "    losses = []\n",
        "    with torch.no_grad():\n",
        "        output = model(data)\n",
        "        loss_from = metric_from(output[:, 0, :], target[:, 0, :])\n",
        "        loss_to = metric_to(output[:, 1, :], target[:, 1, :])\n",
        "        loss = loss_from + loss_to\n",
        "        losses.append(loss)\n",
        "print(np.mean(losses))\n",
        "\n",
        "\n",
        "for i in range(N_epochs):\n",
        "  model.train()\n",
        "\n",
        "  for data, target in data_loader_train:\n",
        "      model.zero_grad()\n",
        "      pred = model(data)\n",
        "      output = model(data)\n",
        "      loss_from = metric_from(output[:, 0, :], target[:, 0, :])\n",
        "      loss_to = metric_to(output[:, 1, :], target[:, 1, :])\n",
        "      loss = loss_from + loss_to\n",
        "      loss.backward()\n",
        "      optimizer.step()\n",
        "\n",
        "  model.eval()\n",
        "\n",
        "\n",
        "  for data, target in data_loader_test:\n",
        "      losses = []\n",
        "      with torch.no_grad():\n",
        "          output = model(data)\n",
        "          loss_from = metric_from(output[:, 0, :], target[:, 0, :])\n",
        "          loss_to = metric_to(output[:, 1, :], target[:, 1, :])\n",
        "          loss = loss_from + loss_to\n",
        "          losses.append(loss)\n",
        "\n",
        "  print(np.mean(losses))"
      ]
    },
    {
      "cell_type": "code",
      "execution_count": 27,
      "metadata": {
        "colab": {
          "base_uri": "https://localhost:8080/",
          "height": 227
        },
        "id": "n6mDsAquWdPA",
        "outputId": "429b87c6-bc07-4097-c301-2b60820ac0a1"
      },
      "outputs": [
        {
          "data": {
            "text/plain": [
              "<All keys matched successfully>"
            ]
          },
          "execution_count": 27,
          "metadata": {},
          "output_type": "execute_result"
        }
      ],
      "source": [
        "torch.save(model.state_dict(), 'model_weights.pth')\n",
        "#to load the weights again use:\n",
        "#model = CopiedChessNetwork(hidden_layers=hidden_layers, hidden_size=hidden_size)\n",
        "#model.load_state_dict(torch.load('model_weights_0dot15_loss.pth'))\n"
      ]
    }
  ],
  "metadata": {
    "accelerator": "GPU",
    "colab": {
      "gpuType": "T4",
      "provenance": []
    },
    "kernelspec": {
      "display_name": "Python 3",
      "name": "python3"
    },
    "language_info": {
      "codemirror_mode": {
        "name": "ipython",
        "version": 3
      },
      "file_extension": ".py",
      "mimetype": "text/x-python",
      "name": "python",
      "nbconvert_exporter": "python",
      "pygments_lexer": "ipython3",
      "version": "3.10.12"
    },
    "orig_nbformat": 4
  },
  "nbformat": 4,
  "nbformat_minor": 0
}
